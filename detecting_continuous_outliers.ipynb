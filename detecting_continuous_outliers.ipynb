{
 "cells": [
  {
   "cell_type": "code",
   "execution_count": 5,
   "metadata": {},
   "outputs": [],
   "source": [
    "import numpy as np\n",
    "import pandas as pd\n",
    "import matplotlib.pyplot as plt"
   ]
  },
  {
   "cell_type": "code",
   "execution_count": 3,
   "metadata": {},
   "outputs": [],
   "source": [
    "x = np.random.normal(100, 30, 100_000)"
   ]
  },
  {
   "cell_type": "code",
   "execution_count": 10,
   "metadata": {},
   "outputs": [],
   "source": [
    "x = pd.Series(x)"
   ]
  },
  {
   "cell_type": "code",
   "execution_count": 12,
   "metadata": {},
   "outputs": [
    {
     "data": {
      "text/plain": [
       "<matplotlib.axes._subplots.AxesSubplot at 0x11607d080>"
      ]
     },
     "execution_count": 12,
     "metadata": {},
     "output_type": "execute_result"
    },
    {
     "data": {
      "image/png": "[encoded data removed]",
      "text/plain": [
       "<Figure size 432x288 with 1 Axes>"
      ]
     },
     "metadata": {
      "needs_background": "light"
     },
     "output_type": "display_data"
    }
   ],
   "source": [
    "x.hist(bins=20)"
   ]
  },
  {
   "cell_type": "markdown",
   "metadata": {},
   "source": [
    "### InterQuartile Range Rule\n",
    "1. Calculate the 1st and 3rd quartile numbers\n",
    "2. Calculate IQR = q3 - q1\n",
    "3. Determine our multiplier (1.5 or 3)\n",
    "4. Set the lower bound to be q1 - iqr * multiplier\n",
    "5. Set the upper bound to be q3 + iqr * multiplier\n",
    "6. Use the upper bound and lower bound to identify the observations outside those bounds\n",
    "7. Determine what to do with those outliers?"
   ]
  },
  {
   "cell_type": "code",
   "execution_count": 35,
   "metadata": {},
   "outputs": [],
   "source": [
    "# Let's use the IQR rule to detect upper and lower bound outliers"
   ]
  },
  {
   "cell_type": "code",
   "execution_count": 36,
   "metadata": {},
   "outputs": [
    {
     "data": {
      "text/plain": [
       "count    100000.000000\n",
       "mean         99.993722\n",
       "std          29.907773\n",
       "min         -21.176239\n",
       "25%          79.783482\n",
       "50%          99.907527\n",
       "75%         120.054990\n",
       "max         235.785107\n",
       "dtype: float64"
      ]
     },
     "execution_count": 36,
     "metadata": {},
     "output_type": "execute_result"
    }
   ],
   "source": [
    "x.describe()"
   ]
  },
  {
   "cell_type": "code",
   "execution_count": 18,
   "metadata": {},
   "outputs": [
    {
     "data": {
      "text/plain": [
       "(79.7834821576246, 120.0549903108112)"
      ]
     },
     "execution_count": 18,
     "metadata": {},
     "output_type": "execute_result"
    }
   ],
   "source": [
    "q1 = x.quantile(0.25)\n",
    "q3 = x.quantile(0.75)\n",
    "\n",
    "q1, q3"
   ]
  },
  {
   "cell_type": "code",
   "execution_count": 19,
   "metadata": {},
   "outputs": [
    {
     "data": {
      "text/plain": [
       "40.2715081531866"
      ]
     },
     "execution_count": 19,
     "metadata": {},
     "output_type": "execute_result"
    }
   ],
   "source": [
    "iqr = q3 - q1\n",
    "iqr"
   ]
  },
  {
   "cell_type": "code",
   "execution_count": 29,
   "metadata": {},
   "outputs": [],
   "source": [
    "# Set the IQR multiplier to 1.5 to find the mild outliers\n",
    "multiplier = 1.5"
   ]
  },
  {
   "cell_type": "code",
   "execution_count": 30,
   "metadata": {},
   "outputs": [
    {
     "data": {
      "text/plain": [
       "60.4072622297799"
      ]
     },
     "execution_count": 30,
     "metadata": {},
     "output_type": "execute_result"
    }
   ],
   "source": [
    "iqr * multiplier"
   ]
  },
  {
   "cell_type": "code",
   "execution_count": 31,
   "metadata": {},
   "outputs": [
    {
     "data": {
      "text/plain": [
       "19.3762199278447"
      ]
     },
     "execution_count": 31,
     "metadata": {},
     "output_type": "execute_result"
    }
   ],
   "source": [
    "# lower outer fence: Q1 - 3*IQR\n",
    "lower_fence = q1 - multiplier*iqr\n",
    "lower_fence"
   ]
  },
  {
   "cell_type": "code",
   "execution_count": 32,
   "metadata": {},
   "outputs": [
    {
     "data": {
      "text/plain": [
       "180.46225254059112"
      ]
     },
     "execution_count": 32,
     "metadata": {},
     "output_type": "execute_result"
    }
   ],
   "source": [
    "upper_fence = q3 + multiplier*iqr\n",
    "upper_fence"
   ]
  },
  {
   "cell_type": "code",
   "execution_count": 33,
   "metadata": {},
   "outputs": [
    {
     "data": {
      "text/plain": [
       "433      14.513296\n",
       "575      15.288537\n",
       "681      14.798788\n",
       "859      16.808122\n",
       "939      13.519334\n",
       "           ...    \n",
       "99163    12.358128\n",
       "99307    15.977842\n",
       "99413    13.360158\n",
       "99554    10.642004\n",
       "99790     6.398111\n",
       "Length: 362, dtype: float64"
      ]
     },
     "execution_count": 33,
     "metadata": {},
     "output_type": "execute_result"
    }
   ],
   "source": [
    "# Let's isolate the lower outliers from x\n",
    "x[x <= lower_fence]"
   ]
  },
  {
   "cell_type": "code",
   "execution_count": 34,
   "metadata": {},
   "outputs": [
    {
     "data": {
      "text/plain": [
       "656      197.744651\n",
       "894      184.664915\n",
       "1037     189.446149\n",
       "1392     192.126703\n",
       "1501     198.673637\n",
       "            ...    \n",
       "98315    187.410780\n",
       "98637    193.408054\n",
       "98791    187.464839\n",
       "99714    187.254892\n",
       "99815    184.251131\n",
       "Length: 359, dtype: float64"
      ]
     },
     "execution_count": 34,
     "metadata": {},
     "output_type": "execute_result"
    }
   ],
   "source": [
    "x[x >= upper_fence]"
   ]
  },
  {
   "cell_type": "markdown",
   "metadata": {},
   "source": [
    "## Let's use the Empircal Rule"
   ]
  },
  {
   "cell_type": "code",
   "execution_count": 37,
   "metadata": {},
   "outputs": [],
   "source": [
    "zscores = (x - x.mean()) / x.std()"
   ]
  },
  {
   "cell_type": "code",
   "execution_count": 39,
   "metadata": {},
   "outputs": [],
   "source": [
    "df = pd.DataFrame()\n",
    "df[\"x\"] = x\n",
    "df[\"zscore\"] = abs(zscores)"
   ]
  },
  {
   "cell_type": "code",
   "execution_count": 40,
   "metadata": {},
   "outputs": [
    {
     "data": {
      "text/html": [
       "<div>\n",
       "<style scoped>\n",
       "    .dataframe tbody tr th:only-of-type {\n",
       "        vertical-align: middle;\n",
       "    }\n",
       "\n",
       "    .dataframe tbody tr th {\n",
       "        vertical-align: top;\n",
       "    }\n",
       "\n",
       "    .dataframe thead th {\n",
       "        text-align: right;\n",
       "    }\n",
       "</style>\n",
       "<table border=\"1\" class=\"dataframe\">\n",
       "  <thead>\n",
       "    <tr style=\"text-align: right;\">\n",
       "      <th></th>\n",
       "      <th>x</th>\n",
       "      <th>zscore</th>\n",
       "    </tr>\n",
       "  </thead>\n",
       "  <tbody>\n",
       "    <tr>\n",
       "      <th>0</th>\n",
       "      <td>94.873445</td>\n",
       "      <td>0.171202</td>\n",
       "    </tr>\n",
       "    <tr>\n",
       "      <th>1</th>\n",
       "      <td>92.869446</td>\n",
       "      <td>0.238208</td>\n",
       "    </tr>\n",
       "    <tr>\n",
       "      <th>2</th>\n",
       "      <td>88.556922</td>\n",
       "      <td>0.382402</td>\n",
       "    </tr>\n",
       "    <tr>\n",
       "      <th>3</th>\n",
       "      <td>92.918316</td>\n",
       "      <td>0.236574</td>\n",
       "    </tr>\n",
       "    <tr>\n",
       "      <th>4</th>\n",
       "      <td>162.975712</td>\n",
       "      <td>2.105874</td>\n",
       "    </tr>\n",
       "  </tbody>\n",
       "</table>\n",
       "</div>"
      ],
      "text/plain": [
       "            x    zscore\n",
       "0   94.873445  0.171202\n",
       "1   92.869446  0.238208\n",
       "2   88.556922  0.382402\n",
       "3   92.918316  0.236574\n",
       "4  162.975712  2.105874"
      ]
     },
     "execution_count": 40,
     "metadata": {},
     "output_type": "execute_result"
    }
   ],
   "source": [
    "df.head()"
   ]
  },
  {
   "cell_type": "code",
   "execution_count": 41,
   "metadata": {},
   "outputs": [
    {
     "data": {
      "text/html": [
       "<div>\n",
       "<style scoped>\n",
       "    .dataframe tbody tr th:only-of-type {\n",
       "        vertical-align: middle;\n",
       "    }\n",
       "\n",
       "    .dataframe tbody tr th {\n",
       "        vertical-align: top;\n",
       "    }\n",
       "\n",
       "    .dataframe thead th {\n",
       "        text-align: right;\n",
       "    }\n",
       "</style>\n",
       "<table border=\"1\" class=\"dataframe\">\n",
       "  <thead>\n",
       "    <tr style=\"text-align: right;\">\n",
       "      <th></th>\n",
       "      <th>x</th>\n",
       "      <th>zscore</th>\n",
       "    </tr>\n",
       "  </thead>\n",
       "  <tbody>\n",
       "    <tr>\n",
       "      <th>656</th>\n",
       "      <td>197.744651</td>\n",
       "      <td>3.268412</td>\n",
       "    </tr>\n",
       "    <tr>\n",
       "      <th>1392</th>\n",
       "      <td>192.126703</td>\n",
       "      <td>3.080570</td>\n",
       "    </tr>\n",
       "    <tr>\n",
       "      <th>1501</th>\n",
       "      <td>198.673637</td>\n",
       "      <td>3.299474</td>\n",
       "    </tr>\n",
       "    <tr>\n",
       "      <th>2395</th>\n",
       "      <td>195.734975</td>\n",
       "      <td>3.201216</td>\n",
       "    </tr>\n",
       "    <tr>\n",
       "      <th>2600</th>\n",
       "      <td>191.789589</td>\n",
       "      <td>3.069298</td>\n",
       "    </tr>\n",
       "    <tr>\n",
       "      <th>...</th>\n",
       "      <td>...</td>\n",
       "      <td>...</td>\n",
       "    </tr>\n",
       "    <tr>\n",
       "      <th>95784</th>\n",
       "      <td>196.626570</td>\n",
       "      <td>3.231028</td>\n",
       "    </tr>\n",
       "    <tr>\n",
       "      <th>97254</th>\n",
       "      <td>195.161472</td>\n",
       "      <td>3.182041</td>\n",
       "    </tr>\n",
       "    <tr>\n",
       "      <th>97838</th>\n",
       "      <td>200.486969</td>\n",
       "      <td>3.360105</td>\n",
       "    </tr>\n",
       "    <tr>\n",
       "      <th>97897</th>\n",
       "      <td>194.751239</td>\n",
       "      <td>3.168324</td>\n",
       "    </tr>\n",
       "    <tr>\n",
       "      <th>98637</th>\n",
       "      <td>193.408054</td>\n",
       "      <td>3.123413</td>\n",
       "    </tr>\n",
       "  </tbody>\n",
       "</table>\n",
       "<p>139 rows × 2 columns</p>\n",
       "</div>"
      ],
      "text/plain": [
       "                x    zscore\n",
       "656    197.744651  3.268412\n",
       "1392   192.126703  3.080570\n",
       "1501   198.673637  3.299474\n",
       "2395   195.734975  3.201216\n",
       "2600   191.789589  3.069298\n",
       "...           ...       ...\n",
       "95784  196.626570  3.231028\n",
       "97254  195.161472  3.182041\n",
       "97838  200.486969  3.360105\n",
       "97897  194.751239  3.168324\n",
       "98637  193.408054  3.123413\n",
       "\n",
       "[139 rows x 2 columns]"
      ]
     },
     "execution_count": 41,
     "metadata": {},
     "output_type": "execute_result"
    }
   ],
   "source": [
    "# Let's find all the values that are more than 3+ standard deviations from the mean\n",
    "df[zscores >= 3]"
   ]
  },
  {
   "cell_type": "code",
   "execution_count": 42,
   "metadata": {},
   "outputs": [
    {
     "data": {
      "text/html": [
       "<div>\n",
       "<style scoped>\n",
       "    .dataframe tbody tr th:only-of-type {\n",
       "        vertical-align: middle;\n",
       "    }\n",
       "\n",
       "    .dataframe tbody tr th {\n",
       "        vertical-align: top;\n",
       "    }\n",
       "\n",
       "    .dataframe thead th {\n",
       "        text-align: right;\n",
       "    }\n",
       "</style>\n",
       "<table border=\"1\" class=\"dataframe\">\n",
       "  <thead>\n",
       "    <tr style=\"text-align: right;\">\n",
       "      <th></th>\n",
       "      <th>x</th>\n",
       "      <th>zscore</th>\n",
       "    </tr>\n",
       "  </thead>\n",
       "  <tbody>\n",
       "    <tr>\n",
       "      <th>4</th>\n",
       "      <td>162.975712</td>\n",
       "      <td>2.105874</td>\n",
       "    </tr>\n",
       "    <tr>\n",
       "      <th>17</th>\n",
       "      <td>162.609315</td>\n",
       "      <td>2.093623</td>\n",
       "    </tr>\n",
       "    <tr>\n",
       "      <th>58</th>\n",
       "      <td>168.378531</td>\n",
       "      <td>2.286523</td>\n",
       "    </tr>\n",
       "    <tr>\n",
       "      <th>136</th>\n",
       "      <td>171.142395</td>\n",
       "      <td>2.378936</td>\n",
       "    </tr>\n",
       "    <tr>\n",
       "      <th>160</th>\n",
       "      <td>167.904385</td>\n",
       "      <td>2.270669</td>\n",
       "    </tr>\n",
       "    <tr>\n",
       "      <th>...</th>\n",
       "      <td>...</td>\n",
       "      <td>...</td>\n",
       "    </tr>\n",
       "    <tr>\n",
       "      <th>99714</th>\n",
       "      <td>187.254892</td>\n",
       "      <td>2.917675</td>\n",
       "    </tr>\n",
       "    <tr>\n",
       "      <th>99749</th>\n",
       "      <td>170.825456</td>\n",
       "      <td>2.368339</td>\n",
       "    </tr>\n",
       "    <tr>\n",
       "      <th>99815</th>\n",
       "      <td>184.251131</td>\n",
       "      <td>2.817241</td>\n",
       "    </tr>\n",
       "    <tr>\n",
       "      <th>99841</th>\n",
       "      <td>170.423513</td>\n",
       "      <td>2.354899</td>\n",
       "    </tr>\n",
       "    <tr>\n",
       "      <th>99898</th>\n",
       "      <td>160.398881</td>\n",
       "      <td>2.019714</td>\n",
       "    </tr>\n",
       "  </tbody>\n",
       "</table>\n",
       "<p>2330 rows × 2 columns</p>\n",
       "</div>"
      ],
      "text/plain": [
       "                x    zscore\n",
       "4      162.975712  2.105874\n",
       "17     162.609315  2.093623\n",
       "58     168.378531  2.286523\n",
       "136    171.142395  2.378936\n",
       "160    167.904385  2.270669\n",
       "...           ...       ...\n",
       "99714  187.254892  2.917675\n",
       "99749  170.825456  2.368339\n",
       "99815  184.251131  2.817241\n",
       "99841  170.423513  2.354899\n",
       "99898  160.398881  2.019714\n",
       "\n",
       "[2330 rows x 2 columns]"
      ]
     },
     "execution_count": 42,
     "metadata": {},
     "output_type": "execute_result"
    }
   ],
   "source": [
    "# Let's find all the values that are more than 2+ standard deviations from the mean\n",
    "df[zscores >= 2]"
   ]
  },
  {
   "cell_type": "code",
   "execution_count": 44,
   "metadata": {},
   "outputs": [
    {
     "data": {
      "text/html": [
       "<div>\n",
       "<style scoped>\n",
       "    .dataframe tbody tr th:only-of-type {\n",
       "        vertical-align: middle;\n",
       "    }\n",
       "\n",
       "    .dataframe tbody tr th {\n",
       "        vertical-align: top;\n",
       "    }\n",
       "\n",
       "    .dataframe thead th {\n",
       "        text-align: right;\n",
       "    }\n",
       "</style>\n",
       "<table border=\"1\" class=\"dataframe\">\n",
       "  <thead>\n",
       "    <tr style=\"text-align: right;\">\n",
       "      <th></th>\n",
       "      <th>x</th>\n",
       "      <th>zscore</th>\n",
       "    </tr>\n",
       "  </thead>\n",
       "  <tbody>\n",
       "    <tr>\n",
       "      <th>0</th>\n",
       "      <td>94.873445</td>\n",
       "      <td>0.171202</td>\n",
       "    </tr>\n",
       "    <tr>\n",
       "      <th>1</th>\n",
       "      <td>92.869446</td>\n",
       "      <td>0.238208</td>\n",
       "    </tr>\n",
       "    <tr>\n",
       "      <th>2</th>\n",
       "      <td>88.556922</td>\n",
       "      <td>0.382402</td>\n",
       "    </tr>\n",
       "    <tr>\n",
       "      <th>3</th>\n",
       "      <td>92.918316</td>\n",
       "      <td>0.236574</td>\n",
       "    </tr>\n",
       "    <tr>\n",
       "      <th>5</th>\n",
       "      <td>62.163690</td>\n",
       "      <td>1.264890</td>\n",
       "    </tr>\n",
       "    <tr>\n",
       "      <th>...</th>\n",
       "      <td>...</td>\n",
       "      <td>...</td>\n",
       "    </tr>\n",
       "    <tr>\n",
       "      <th>99995</th>\n",
       "      <td>108.705932</td>\n",
       "      <td>0.291303</td>\n",
       "    </tr>\n",
       "    <tr>\n",
       "      <th>99996</th>\n",
       "      <td>68.502506</td>\n",
       "      <td>1.052944</td>\n",
       "    </tr>\n",
       "    <tr>\n",
       "      <th>99997</th>\n",
       "      <td>81.577156</td>\n",
       "      <td>0.615779</td>\n",
       "    </tr>\n",
       "    <tr>\n",
       "      <th>99998</th>\n",
       "      <td>125.776192</td>\n",
       "      <td>0.862066</td>\n",
       "    </tr>\n",
       "    <tr>\n",
       "      <th>99999</th>\n",
       "      <td>122.923930</td>\n",
       "      <td>0.766697</td>\n",
       "    </tr>\n",
       "  </tbody>\n",
       "</table>\n",
       "<p>84179 rows × 2 columns</p>\n",
       "</div>"
      ],
      "text/plain": [
       "                x    zscore\n",
       "0       94.873445  0.171202\n",
       "1       92.869446  0.238208\n",
       "2       88.556922  0.382402\n",
       "3       92.918316  0.236574\n",
       "5       62.163690  1.264890\n",
       "...           ...       ...\n",
       "99995  108.705932  0.291303\n",
       "99996   68.502506  1.052944\n",
       "99997   81.577156  0.615779\n",
       "99998  125.776192  0.862066\n",
       "99999  122.923930  0.766697\n",
       "\n",
       "[84179 rows x 2 columns]"
      ]
     },
     "execution_count": 44,
     "metadata": {},
     "output_type": "execute_result"
    }
   ],
   "source": [
    "# How many observations are within 1 standard deviation?>\n",
    "df[zscores <= 1]"
   ]
  },
  {
   "cell_type": "code",
   "execution_count": 45,
   "metadata": {},
   "outputs": [
    {
     "data": {
      "text/plain": [
       "0.84179"
      ]
     },
     "execution_count": 45,
     "metadata": {},
     "output_type": "execute_result"
    }
   ],
   "source": [
    "84179 / 100_000"
   ]
  },
  {
   "cell_type": "code",
   "execution_count": 46,
   "metadata": {},
   "outputs": [
    {
     "data": {
      "text/html": [
       "<div>\n",
       "<style scoped>\n",
       "    .dataframe tbody tr th:only-of-type {\n",
       "        vertical-align: middle;\n",
       "    }\n",
       "\n",
       "    .dataframe tbody tr th {\n",
       "        vertical-align: top;\n",
       "    }\n",
       "\n",
       "    .dataframe thead th {\n",
       "        text-align: right;\n",
       "    }\n",
       "</style>\n",
       "<table border=\"1\" class=\"dataframe\">\n",
       "  <thead>\n",
       "    <tr style=\"text-align: right;\">\n",
       "      <th></th>\n",
       "      <th>x</th>\n",
       "      <th>zscore</th>\n",
       "    </tr>\n",
       "  </thead>\n",
       "  <tbody>\n",
       "    <tr>\n",
       "      <th>0</th>\n",
       "      <td>94.873445</td>\n",
       "      <td>0.171202</td>\n",
       "    </tr>\n",
       "    <tr>\n",
       "      <th>1</th>\n",
       "      <td>92.869446</td>\n",
       "      <td>0.238208</td>\n",
       "    </tr>\n",
       "    <tr>\n",
       "      <th>2</th>\n",
       "      <td>88.556922</td>\n",
       "      <td>0.382402</td>\n",
       "    </tr>\n",
       "    <tr>\n",
       "      <th>3</th>\n",
       "      <td>92.918316</td>\n",
       "      <td>0.236574</td>\n",
       "    </tr>\n",
       "    <tr>\n",
       "      <th>5</th>\n",
       "      <td>62.163690</td>\n",
       "      <td>1.264890</td>\n",
       "    </tr>\n",
       "    <tr>\n",
       "      <th>...</th>\n",
       "      <td>...</td>\n",
       "      <td>...</td>\n",
       "    </tr>\n",
       "    <tr>\n",
       "      <th>99995</th>\n",
       "      <td>108.705932</td>\n",
       "      <td>0.291303</td>\n",
       "    </tr>\n",
       "    <tr>\n",
       "      <th>99996</th>\n",
       "      <td>68.502506</td>\n",
       "      <td>1.052944</td>\n",
       "    </tr>\n",
       "    <tr>\n",
       "      <th>99997</th>\n",
       "      <td>81.577156</td>\n",
       "      <td>0.615779</td>\n",
       "    </tr>\n",
       "    <tr>\n",
       "      <th>99998</th>\n",
       "      <td>125.776192</td>\n",
       "      <td>0.862066</td>\n",
       "    </tr>\n",
       "    <tr>\n",
       "      <th>99999</th>\n",
       "      <td>122.923930</td>\n",
       "      <td>0.766697</td>\n",
       "    </tr>\n",
       "  </tbody>\n",
       "</table>\n",
       "<p>97670 rows × 2 columns</p>\n",
       "</div>"
      ],
      "text/plain": [
       "                x    zscore\n",
       "0       94.873445  0.171202\n",
       "1       92.869446  0.238208\n",
       "2       88.556922  0.382402\n",
       "3       92.918316  0.236574\n",
       "5       62.163690  1.264890\n",
       "...           ...       ...\n",
       "99995  108.705932  0.291303\n",
       "99996   68.502506  1.052944\n",
       "99997   81.577156  0.615779\n",
       "99998  125.776192  0.862066\n",
       "99999  122.923930  0.766697\n",
       "\n",
       "[97670 rows x 2 columns]"
      ]
     },
     "execution_count": 46,
     "metadata": {},
     "output_type": "execute_result"
    }
   ],
   "source": [
    "# How many observations are within 2 standard deviations?\n",
    "df[zscores <= 2]"
   ]
  },
  {
   "cell_type": "code",
   "execution_count": 47,
   "metadata": {},
   "outputs": [
    {
     "data": {
      "text/html": [
       "<div>\n",
       "<style scoped>\n",
       "    .dataframe tbody tr th:only-of-type {\n",
       "        vertical-align: middle;\n",
       "    }\n",
       "\n",
       "    .dataframe tbody tr th {\n",
       "        vertical-align: top;\n",
       "    }\n",
       "\n",
       "    .dataframe thead th {\n",
       "        text-align: right;\n",
       "    }\n",
       "</style>\n",
       "<table border=\"1\" class=\"dataframe\">\n",
       "  <thead>\n",
       "    <tr style=\"text-align: right;\">\n",
       "      <th></th>\n",
       "      <th>x</th>\n",
       "      <th>zscore</th>\n",
       "    </tr>\n",
       "  </thead>\n",
       "  <tbody>\n",
       "    <tr>\n",
       "      <th>0</th>\n",
       "      <td>94.873445</td>\n",
       "      <td>0.171202</td>\n",
       "    </tr>\n",
       "    <tr>\n",
       "      <th>1</th>\n",
       "      <td>92.869446</td>\n",
       "      <td>0.238208</td>\n",
       "    </tr>\n",
       "    <tr>\n",
       "      <th>2</th>\n",
       "      <td>88.556922</td>\n",
       "      <td>0.382402</td>\n",
       "    </tr>\n",
       "    <tr>\n",
       "      <th>3</th>\n",
       "      <td>92.918316</td>\n",
       "      <td>0.236574</td>\n",
       "    </tr>\n",
       "    <tr>\n",
       "      <th>4</th>\n",
       "      <td>162.975712</td>\n",
       "      <td>2.105874</td>\n",
       "    </tr>\n",
       "    <tr>\n",
       "      <th>...</th>\n",
       "      <td>...</td>\n",
       "      <td>...</td>\n",
       "    </tr>\n",
       "    <tr>\n",
       "      <th>99995</th>\n",
       "      <td>108.705932</td>\n",
       "      <td>0.291303</td>\n",
       "    </tr>\n",
       "    <tr>\n",
       "      <th>99996</th>\n",
       "      <td>68.502506</td>\n",
       "      <td>1.052944</td>\n",
       "    </tr>\n",
       "    <tr>\n",
       "      <th>99997</th>\n",
       "      <td>81.577156</td>\n",
       "      <td>0.615779</td>\n",
       "    </tr>\n",
       "    <tr>\n",
       "      <th>99998</th>\n",
       "      <td>125.776192</td>\n",
       "      <td>0.862066</td>\n",
       "    </tr>\n",
       "    <tr>\n",
       "      <th>99999</th>\n",
       "      <td>122.923930</td>\n",
       "      <td>0.766697</td>\n",
       "    </tr>\n",
       "  </tbody>\n",
       "</table>\n",
       "<p>99861 rows × 2 columns</p>\n",
       "</div>"
      ],
      "text/plain": [
       "                x    zscore\n",
       "0       94.873445  0.171202\n",
       "1       92.869446  0.238208\n",
       "2       88.556922  0.382402\n",
       "3       92.918316  0.236574\n",
       "4      162.975712  2.105874\n",
       "...           ...       ...\n",
       "99995  108.705932  0.291303\n",
       "99996   68.502506  1.052944\n",
       "99997   81.577156  0.615779\n",
       "99998  125.776192  0.862066\n",
       "99999  122.923930  0.766697\n",
       "\n",
       "[99861 rows x 2 columns]"
      ]
     },
     "execution_count": 47,
     "metadata": {},
     "output_type": "execute_result"
    }
   ],
   "source": [
    "# How many observations are within 3 standard deviations?\n",
    "df[zscores <= 3]"
   ]
  },
  {
   "cell_type": "code",
   "execution_count": null,
   "metadata": {},
   "outputs": [],
   "source": []
  }
 ],
 "metadata": {
  "kernelspec": {
   "display_name": "Python 3",
   "language": "python",
   "name": "python3"
  },
  "language_info": {
   "codemirror_mode": {
    "name": "ipython",
    "version": 3
   },
   "file_extension": ".py",
   "mimetype": "text/x-python",
   "name": "python",
   "nbconvert_exporter": "python",
   "pygments_lexer": "ipython3",
   "version": "3.7.3"
  }
 },
 "nbformat": 4,
 "nbformat_minor": 4
}
